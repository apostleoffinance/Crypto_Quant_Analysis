{
 "cells": [
  {
   "cell_type": "markdown",
   "metadata": {},
   "source": [
    "#Cryptocurrency Analysis with Python: Retrieving Crypto Data from CoinGecko \n",
    "#Here we will delve into the process of retrieving detailed and in-depth crypto data from coingecko, a popular data aggregator, using Python.\n",
    "#Disclaimer: I am not affiliated with coingecko, just retrieve crypto data from their platform\n",
    "\n",
    "Use the CoinGecko API wrapper pycoingecko.To install the pycoingecko,\n",
    "we must use pip install -U pycoingecko command you in our computer's command prompt or terminal. \n",
    "Alternatively, we can use the !pip install -U pycoingecko command directly in our Jupyter Notebook \n"
   ]
  },
  {
   "cell_type": "code",
   "execution_count": 6,
   "metadata": {},
   "outputs": [
    {
     "data": {
      "text/plain": [
       "{'gecko_says': '(V3) To the Moon!'}"
      ]
     },
     "execution_count": 6,
     "metadata": {},
     "output_type": "execute_result"
    }
   ],
   "source": [
    "#Import Libraries\n",
    "\n",
    "import pandas as pd\n",
    "import matplotlib.pyplot as plt\n",
    "from pycoingecko import CoinGeckoAPI # type: ignore\n",
    "import time\n",
    "import math\n",
    "\n",
    "#creates an instance of the CoinGeckoAPI class, assigns it to the variable cg\n",
    "cg = CoinGeckoAPI() #connect\n",
    "\n",
    "#Check API connectivity using ping method \n",
    "cg.ping()"
   ]
  },
  {
   "cell_type": "code",
   "execution_count": 7,
   "metadata": {},
   "outputs": [
    {
     "data": {
      "text/plain": [
       "{'bitcoin': {'usd': 60781}}"
      ]
     },
     "execution_count": 7,
     "metadata": {},
     "output_type": "execute_result"
    }
   ],
   "source": [
    "#Retrieving data for bitcoin (BTC) USD from the coingecko API\n",
    "\n",
    "cg.get_price(ids = \"bitcoin\", vs_currencies = \"usd\")"
   ]
  },
  {
   "cell_type": "code",
   "execution_count": 8,
   "metadata": {},
   "outputs": [
    {
     "data": {
      "text/html": [
       "<div>\n",
       "<style scoped>\n",
       "    .dataframe tbody tr th:only-of-type {\n",
       "        vertical-align: middle;\n",
       "    }\n",
       "\n",
       "    .dataframe tbody tr th {\n",
       "        vertical-align: top;\n",
       "    }\n",
       "\n",
       "    .dataframe thead th {\n",
       "        text-align: right;\n",
       "    }\n",
       "</style>\n",
       "<table border=\"1\" class=\"dataframe\">\n",
       "  <thead>\n",
       "    <tr style=\"text-align: right;\">\n",
       "      <th></th>\n",
       "      <th>bitcoin</th>\n",
       "    </tr>\n",
       "  </thead>\n",
       "  <tbody>\n",
       "    <tr>\n",
       "      <th>last_updated_at</th>\n",
       "      <td>2024-08-22 07:33:01</td>\n",
       "    </tr>\n",
       "    <tr>\n",
       "      <th>usd</th>\n",
       "      <td>60782.0</td>\n",
       "    </tr>\n",
       "    <tr>\n",
       "      <th>usd_24h_change</th>\n",
       "      <td>1.799399</td>\n",
       "    </tr>\n",
       "    <tr>\n",
       "      <th>usd_24h_vol</th>\n",
       "      <td>35770452412.40612</td>\n",
       "    </tr>\n",
       "    <tr>\n",
       "      <th>usd_market_cap</th>\n",
       "      <td>1200033491313.155762</td>\n",
       "    </tr>\n",
       "  </tbody>\n",
       "</table>\n",
       "</div>"
      ],
      "text/plain": [
       "                              bitcoin\n",
       "last_updated_at   2024-08-22 07:33:01\n",
       "usd                           60782.0\n",
       "usd_24h_change               1.799399\n",
       "usd_24h_vol         35770452412.40612\n",
       "usd_market_cap   1200033491313.155762"
      ]
     },
     "execution_count": 8,
     "metadata": {},
     "output_type": "execute_result"
    }
   ],
   "source": [
    "# Retrieve data for Bitcoin (BTC) from the CoinGecko API\n",
    "data = cg.get_price(ids = \"bitcoin\", vs_currencies = \"usd\", include_market_cap = True,\n",
    "                    include_24hr_vol = True, include_24hr_change=True, include_last_updated_at = True)\n",
    "\n",
    "#Convert the retrieved data (in JSON format) into a pandas DataFrame\n",
    "data = pd.DataFrame(data)\n",
    "\n",
    "#Convert the last_updated_at column of the Bitcoin data to a datetime format.\n",
    "data[\"bitcoin\"][\"last_updated_at\"] = pd.to_datetime(data[\"bitcoin\"][\"last_updated_at\"],unit=\"s\")\n",
    "data"
   ]
  },
  {
   "cell_type": "code",
   "execution_count": null,
   "metadata": {},
   "outputs": [],
   "source": []
  }
 ],
 "metadata": {
  "kernelspec": {
   "display_name": "base",
   "language": "python",
   "name": "python3"
  },
  "language_info": {
   "codemirror_mode": {
    "name": "ipython",
    "version": 3
   },
   "file_extension": ".py",
   "mimetype": "text/x-python",
   "name": "python",
   "nbconvert_exporter": "python",
   "pygments_lexer": "ipython3",
   "version": "3.9.12"
  }
 },
 "nbformat": 4,
 "nbformat_minor": 2
}
